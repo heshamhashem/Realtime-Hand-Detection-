{
 "cells": [
  {
   "cell_type": "markdown",
   "metadata": {},
   "source": [
    "#  Realtime Hand Detection by using CVZONE & mediapipe\n",
    "\n",
    "## Tasks:-\n",
    "\n",
    "### 1- install important library.\n",
    "\n",
    "### 2- use Cvzone  to detect the Hand and Then measure the Distance between the farest fingers  "
   ]
  },
  {
   "cell_type": "markdown",
   "metadata": {},
   "source": [
    "###  1- install important library"
   ]
  },
  {
   "cell_type": "code",
   "execution_count": 1,
   "metadata": {},
   "outputs": [
    {
     "name": "stdout",
     "output_type": "stream",
     "text": [
      "Requirement already satisfied: mediapipe in c:\\users\\hashoma\\appdata\\roaming\\python\\python38\\site-packages (0.8.6)\n",
      "Requirement already satisfied: wheel in c:\\users\\hashoma\\anaconda3\\lib\\site-packages (from mediapipe) (0.36.2)\n",
      "Requirement already satisfied: attrs>=19.1.0 in c:\\users\\hashoma\\anaconda3\\lib\\site-packages (from mediapipe) (19.3.0)\n",
      "Requirement already satisfied: matplotlib in c:\\users\\hashoma\\anaconda3\\lib\\site-packages (from mediapipe) (3.2.2)\n",
      "Requirement already satisfied: numpy in c:\\users\\hashoma\\anaconda3\\lib\\site-packages (from mediapipe) (1.19.5)\n",
      "Requirement already satisfied: protobuf>=3.11.4 in c:\\users\\hashoma\\anaconda3\\lib\\site-packages (from mediapipe) (3.15.8)\n",
      "Requirement already satisfied: six in c:\\users\\hashoma\\anaconda3\\lib\\site-packages (from mediapipe) (1.15.0)\n",
      "Requirement already satisfied: opencv-contrib-python in c:\\users\\hashoma\\appdata\\roaming\\python\\python38\\site-packages (from mediapipe) (4.5.2.54)\n",
      "Requirement already satisfied: absl-py in c:\\users\\hashoma\\anaconda3\\lib\\site-packages (from mediapipe) (0.12.0)\n",
      "Requirement already satisfied: pyparsing!=2.0.4,!=2.1.2,!=2.1.6,>=2.0.1 in c:\\users\\hashoma\\anaconda3\\lib\\site-packages (from matplotlib->mediapipe) (2.4.7)\n",
      "Requirement already satisfied: cycler>=0.10 in c:\\users\\hashoma\\anaconda3\\lib\\site-packages (from matplotlib->mediapipe) (0.10.0)\n",
      "Requirement already satisfied: kiwisolver>=1.0.1 in c:\\users\\hashoma\\anaconda3\\lib\\site-packages (from matplotlib->mediapipe) (1.2.0)\n",
      "Requirement already satisfied: python-dateutil>=2.1 in c:\\users\\hashoma\\anaconda3\\lib\\site-packages (from matplotlib->mediapipe) (2.8.1)\n"
     ]
    }
   ],
   "source": [
    "!pip install mediapipe --user\n",
    "!pip install cvzone"
   ]
  },
  {
   "cell_type": "markdown",
   "metadata": {},
   "source": [
    "### 2- use Cvzone to detect the Hand and Then measure the Distance between the farest fingers"
   ]
  },
  {
   "cell_type": "code",
   "execution_count": 2,
   "metadata": {},
   "outputs": [],
   "source": [
    "#import the used library\n",
    "from cvzone.HandTrackingModule import HandDetector\n",
    "import cv2\n",
    "\n",
    "cap = cv2.VideoCapture(0)\n",
    "cap.set(3, 1280)\n",
    "cap.set(4, 720)\n",
    "detector = HandDetector(detectionCon=0.5, maxHands=1)\n",
    "\n",
    "while True:\n",
    "    # Get image frame\n",
    "    success, img = cap.read()\n",
    "\n",
    "    # Find the hand and its landmarks\n",
    "    img = detector.findHands(img)\n",
    "    lmList, bboxInfo = detector.findPosition(img)\n",
    "    if lmList:\n",
    "        bbox = bboxInfo['bbox']\n",
    "        # Find Distance Between Two Fingers\n",
    "        distance, img, info = detector.findDistance(4, 20, img)\n",
    "        cv2.putText(img, f'Dist:{int(distance)}', (bbox[0] + 400, bbox[1] - 30),\n",
    "                    cv2.FONT_HERSHEY_PLAIN, 2, (0, 255, 0), 2)\n",
    "    \n",
    "    # Display\n",
    "    cv2.imshow(\"Image\", img)\n",
    "    if cv2.waitKey(1) & 0xFF == ord('q'):\n",
    "        break\n",
    "cap.release()\n",
    "cv2.destroyAllWindows()"
   ]
  },
  {
   "cell_type": "markdown",
   "metadata": {},
   "source": [
    "## congratulations "
   ]
  }
 ],
 "metadata": {
  "kernelspec": {
   "display_name": "Python 3",
   "language": "python",
   "name": "python3"
  },
  "language_info": {
   "codemirror_mode": {
    "name": "ipython",
    "version": 3
   },
   "file_extension": ".py",
   "mimetype": "text/x-python",
   "name": "python",
   "nbconvert_exporter": "python",
   "pygments_lexer": "ipython3",
   "version": "3.8.3"
  }
 },
 "nbformat": 4,
 "nbformat_minor": 4
}
